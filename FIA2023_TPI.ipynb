{
  "nbformat": 4,
  "nbformat_minor": 0,
  "metadata": {
    "colab": {
      "provenance": [],
      "authorship_tag": "ABX9TyNfL3h1hRB86CyP4/b3dYOU",
      "include_colab_link": true
    },
    "kernelspec": {
      "name": "ir",
      "display_name": "R"
    },
    "language_info": {
      "name": "R"
    }
  },
  "cells": [
    {
      "cell_type": "markdown",
      "metadata": {
        "id": "view-in-github",
        "colab_type": "text"
      },
      "source": [
        "<a href=\"https://colab.research.google.com/github/GRARLBD/FIA2023-TPI/blob/main/FIA2023_TPI.ipynb\" target=\"_parent\"><img src=\"https://colab.research.google.com/assets/colab-badge.svg\" alt=\"Open In Colab\"/></a>"
      ]
    },
    {
      "cell_type": "code",
      "execution_count": null,
      "metadata": {
        "id": "5nZAg-HIeAnr"
      },
      "outputs": [],
      "source": [
        "install.packages('lubridate')\n",
        "install.packages('ggplot2')\n",
        "install.packages('ggdist')"
      ]
    },
    {
      "cell_type": "code",
      "source": [
        "library(lubridate)\n",
        "library(ggplot2)\n",
        "library(ggdist)\n",
        "library(dplyr)"
      ],
      "metadata": {
        "id": "MVmeQU2jercM"
      },
      "execution_count": null,
      "outputs": []
    },
    {
      "cell_type": "code",
      "source": [
        "df_princess<- read.csv(\"/content/princess.csv\")\n",
        "df_wine <- read.csv(\"/content/wine.csv\")"
      ],
      "metadata": {
        "id": "_UvfcTqcfEPV"
      },
      "execution_count": 5,
      "outputs": []
    },
    {
      "cell_type": "code",
      "source": [
        "\n",
        "\n",
        "table(df_princess$Cured)"
      ],
      "metadata": {
        "id": "eHfdCnm-0g_A"
      },
      "execution_count": null,
      "outputs": []
    },
    {
      "cell_type": "code",
      "source": [
        "install.packages(\"e1071\")#svm\n",
        "install.packages(\"randomForest\") #randomForest\n",
        "install.packages(\"clock\") #necesaria para instalar 'caret'\n",
        "install.packages(\"caret\") #para el particionado del df\n",
        "install.packages(\"fastDummies\") #para realizar el casteo (one-hot encoding)"
      ],
      "metadata": {
        "id": "yX2g2cF3Sdfs"
      },
      "execution_count": null,
      "outputs": []
    },
    {
      "cell_type": "code",
      "source": [
        "library(e1071)\n",
        "library(randomForest)\n",
        "library(dplyr)\n",
        "library(caret)\n",
        "library(reshape2)\n",
        "library(fastDummies)"
      ],
      "metadata": {
        "id": "_7XH_wNQSkxl"
      },
      "execution_count": null,
      "outputs": []
    },
    {
      "cell_type": "code",
      "source": [
        "head(df_wine) # MOSTRAMOS LA PRIMERAS FILAS\n"
      ],
      "metadata": {
        "id": "Wo9YRWIBU7ja"
      },
      "execution_count": null,
      "outputs": []
    },
    {
      "cell_type": "code",
      "source": [
        "df_label_bad <- df_wine[df_wine$quality == 'bad', ] # Creamos un df con las filas con etiqueta 0\n",
        "sampled_df_label_bad <- df_label_bad[sample(nrow(df_label_bad), 10), ]\n",
        "\n",
        "# Creamos un subconjunto con las filas con label = 1\n",
        "df_label_good <- df_wine[df_wine$quality == 'good', ]\n",
        "sampled_df_label_good <- df_label_good[sample(nrow(df_label_good), 10), ]\n",
        "# Combinamos los subconjuntos en un DataFrame balanceado\n",
        "df_balanceado160SVM <- rbind(sampled_df_label_bad, sampled_df_label_good)\n",
        "\n",
        "df_balanceado160SVM"
      ],
      "metadata": {
        "id": "gO6ZL_h9eXnv"
      },
      "execution_count": null,
      "outputs": []
    },
    {
      "cell_type": "code",
      "source": [
        "set.seed(2023) #seteamos la semilla para que el experimento sea reproducible\n",
        "t.ids <- createDataPartition(df_wine$quality, p =0.7, list=F) #particionamos el df en 70% para entrenamiento y 30% para prueba\n"
      ],
      "metadata": {
        "id": "GLgV1gL8tTD-"
      },
      "execution_count": 55,
      "outputs": []
    },
    {
      "cell_type": "code",
      "source": [
        "# Asegúrate de que la columna 'quality' sea de tipo factor\n",
        "df_wine$quality <- as.factor(df_wine$quality)\n",
        "\n",
        "# Entrenar el modelo de Random Forest\n",
        "modelo_rf <- randomForest(quality ~ ., data = df_wine[t.ids, ])\n",
        "\n",
        "# Realizar predicciones\n",
        "prediccion_rf <- predict(modelo_rf, newdata = df_wine[-t.ids, ])\n",
        "matriz_confusion <- table(prediccion_rf, df_wine$quality[-t.ids], dnn = c('Real' ,'Predicho'))\n",
        "\n"
      ],
      "metadata": {
        "id": "wFxhQK7Cu-i3"
      },
      "execution_count": 57,
      "outputs": []
    },
    {
      "cell_type": "code",
      "source": [
        "# Evaluación del modelo u otros procedimientos\n",
        "matriz_confusion <- table(prediccion_rf, df_wine$quality[-t.ids], dnn = c('Real' ,'Predicho'))\n",
        "# Cálculo de métricas a partir de la matriz de confusión\n",
        "library(caret)\n",
        "\n",
        "# Convertir la matriz de confusión en un objeto de tipo ConfusionMatrix para calcular métricas\n",
        "confusion_matrix <- confusionMatrix(matriz_confusion)\n",
        "\n",
        "# Obtener la precisión del modelo\n",
        "precision <- confusion_matrix$overall['Accuracy']\n",
        "cat(\"Precisión (Accuracy):\", precision, \"\\n\\n\\n\")\n",
        "confusion_matrix\n"
      ],
      "metadata": {
        "id": "b0y9vK1T8INF"
      },
      "execution_count": null,
      "outputs": []
    },
    {
      "cell_type": "code",
      "source": [
        "#SVM\n",
        "# Asegúrate de que la columna 'quality' sea de tipo factor\n",
        "df_wine$quality <- as.factor(df_wine$quality)\n",
        "\n",
        "modelo <- svm(quality ~ ., data = df_wine[t.ids, ]) #entrenamiento\n",
        "prediccion <- predict(modelo, df_wine[-t.ids, ]) #prueba\n",
        "matriz_confusion <- table(df_wine$quality[-t.ids], prediccion, dnn = c('Real', 'Predicho')) #creamos una matriz de confusión\n",
        "\n",
        "# Cálculo de métricas a partir de la matriz de confusión\n",
        "library(caret)\n",
        "\n",
        "# Convertir la matriz de confusión en un objeto de tipo ConfusionMatrix para calcular métricas\n",
        "confusion_matrix <- confusionMatrix(matriz_confusion)\n",
        "\n",
        "# Obtener la precisión del modelo\n",
        "precision <- confusion_matrix$overall['Accuracy']\n",
        "cat(\"Precisión (Accuracy):\", precision, \"\\n\\n\\n\")\n",
        "confusion_matrix"
      ],
      "metadata": {
        "colab": {
          "base_uri": "https://localhost:8080/",
          "height": 538
        },
        "id": "tuf2H1MEFhQ9",
        "outputId": "e06cf859-e7ca-4572-a5fc-c056fdfbec6a"
      },
      "execution_count": 64,
      "outputs": [
        {
          "output_type": "stream",
          "name": "stdout",
          "text": [
            "Precisión (Accuracy): 0.743215 \n",
            "\n",
            "\n"
          ]
        },
        {
          "output_type": "display_data",
          "data": {
            "text/plain": [
              "Confusion Matrix and Statistics\n",
              "\n",
              "      Predicho\n",
              "Real   bad good\n",
              "  bad  160   63\n",
              "  good  60  196\n",
              "                                          \n",
              "               Accuracy : 0.7432          \n",
              "                 95% CI : (0.7016, 0.7818)\n",
              "    No Information Rate : 0.5407          \n",
              "    P-Value [Acc > NIR] : <2e-16          \n",
              "                                          \n",
              "                  Kappa : 0.4835          \n",
              "                                          \n",
              " Mcnemar's Test P-Value : 0.8569          \n",
              "                                          \n",
              "            Sensitivity : 0.7273          \n",
              "            Specificity : 0.7568          \n",
              "         Pos Pred Value : 0.7175          \n",
              "         Neg Pred Value : 0.7656          \n",
              "             Prevalence : 0.4593          \n",
              "         Detection Rate : 0.3340          \n",
              "   Detection Prevalence : 0.4656          \n",
              "      Balanced Accuracy : 0.7420          \n",
              "                                          \n",
              "       'Positive' Class : bad             \n",
              "                                          "
            ]
          },
          "metadata": {}
        }
      ]
    }
  ]
}