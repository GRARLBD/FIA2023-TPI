{
  "nbformat": 4,
  "nbformat_minor": 0,
  "metadata": {
    "colab": {
      "provenance": [],
      "authorship_tag": "ABX9TyMF2ivz4sZeHvsWvFu+WyE1",
      "include_colab_link": true
    },
    "kernelspec": {
      "name": "ir",
      "display_name": "R"
    },
    "language_info": {
      "name": "R"
    }
  },
  "cells": [
    {
      "cell_type": "markdown",
      "metadata": {
        "id": "view-in-github",
        "colab_type": "text"
      },
      "source": [
        "<a href=\"https://colab.research.google.com/github/GRARLBD/TrabajoIntegradorFI2023/blob/main/TP_INTEGRADOR.ipynb\" target=\"_parent\"><img src=\"https://colab.research.google.com/assets/colab-badge.svg\" alt=\"Open In Colab\"/></a>"
      ]
    },
    {
      "cell_type": "code",
      "execution_count": null,
      "metadata": {
        "id": "5nZAg-HIeAnr"
      },
      "outputs": [],
      "source": [
        "install.packages('lubridate')\n",
        "install.packages('ggplot2')\n",
        "install.packages('ggdist')"
      ]
    },
    {
      "cell_type": "code",
      "source": [
        "library(lubridate)\n",
        "library(ggplot2)\n",
        "library(ggdist)\n",
        "library(dplyr)"
      ],
      "metadata": {
        "id": "MVmeQU2jercM"
      },
      "execution_count": null,
      "outputs": []
    },
    {
      "cell_type": "code",
      "source": [
        "df_credit_card <- read.csv(\"/content/Credit_card.csv\")\n",
        "df_credit_card_label <- read.csv(\"/content/Credit_card_label.csv\")"
      ],
      "metadata": {
        "id": "_UvfcTqcfEPV"
      },
      "execution_count": null,
      "outputs": []
    }
  ]
}